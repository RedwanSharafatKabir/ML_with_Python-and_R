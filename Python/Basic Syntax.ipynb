{
 "cells": [
  {
   "cell_type": "code",
   "execution_count": 1,
   "id": "1df9d5dd-6e8c-4adb-9443-74108cf677c1",
   "metadata": {},
   "outputs": [
    {
     "name": "stdout",
     "output_type": "stream",
     "text": [
      "Hello World\n"
     ]
    }
   ],
   "source": [
    "first_name = \"Hello\"\n",
    "\n",
    "print(first_name + \" World\")"
   ]
  },
  {
   "cell_type": "code",
   "execution_count": 5,
   "id": "46c0f5dc-805e-400e-8f16-0d8c5681a3e0",
   "metadata": {},
   "outputs": [
    {
     "name": "stdout",
     "output_type": "stream",
     "text": [
      "11\n"
     ]
    }
   ],
   "source": [
    "first_value = 5\n",
    "\n",
    "print(first_value + 6)"
   ]
  },
  {
   "cell_type": "code",
   "execution_count": 7,
   "id": "745d0a75-3022-436b-a111-d1a83e204437",
   "metadata": {},
   "outputs": [
    {
     "data": {
      "text/plain": [
       "11"
      ]
     },
     "execution_count": 7,
     "metadata": {},
     "output_type": "execute_result"
    }
   ],
   "source": [
    "first_value = 5\n",
    "\n",
    "first_value + 6"
   ]
  },
  {
   "cell_type": "code",
   "execution_count": 9,
   "id": "4b71443a-dcbf-4474-8d19-c3a111af1494",
   "metadata": {},
   "outputs": [
    {
     "data": {
      "text/plain": [
       "13"
      ]
     },
     "execution_count": 9,
     "metadata": {},
     "output_type": "execute_result"
    }
   ],
   "source": [
    "first_value = 5\n",
    "first_value = 7\n",
    "first_value + 6"
   ]
  },
  {
   "cell_type": "code",
   "execution_count": 21,
   "id": "166185f3-2ce9-4ff4-a2b4-94f9878a0611",
   "metadata": {},
   "outputs": [
    {
     "name": "stdout",
     "output_type": "stream",
     "text": [
      "11\n",
      "-1\n"
     ]
    }
   ],
   "source": [
    "x, y = (5, 6)\n",
    "\n",
    "print(x + y)\n",
    "print(x - y)"
   ]
  },
  {
   "cell_type": "code",
   "execution_count": 1,
   "id": "87f4bdc0-0e89-4279-9872-f4ddc41402f1",
   "metadata": {},
   "outputs": [
    {
     "data": {
      "text/plain": [
       "str"
      ]
     },
     "execution_count": 1,
     "metadata": {},
     "output_type": "execute_result"
    }
   ],
   "source": [
    "type(\"Hello World!\")"
   ]
  },
  {
   "cell_type": "code",
   "execution_count": 3,
   "id": "ed6821fd-8931-4339-a005-7a9149a6643d",
   "metadata": {},
   "outputs": [
    {
     "data": {
      "text/plain": [
       "float"
      ]
     },
     "execution_count": 3,
     "metadata": {},
     "output_type": "execute_result"
    }
   ],
   "source": [
    "value = 7.5\n",
    "type(value)"
   ]
  },
  {
   "cell_type": "code",
   "execution_count": 7,
   "id": "c51c868c-30d9-49c1-bff9-2a95b3c267f2",
   "metadata": {},
   "outputs": [
    {
     "data": {
      "text/plain": [
       "bool"
      ]
     },
     "execution_count": 7,
     "metadata": {},
     "output_type": "execute_result"
    }
   ],
   "source": [
    "type(False)"
   ]
  },
  {
   "cell_type": "code",
   "execution_count": 17,
   "id": "fe2efaee-f726-4fb9-807a-d2e38dbc470a",
   "metadata": {},
   "outputs": [
    {
     "name": "stdout",
     "output_type": "stream",
     "text": [
      "Hello World!\n"
     ]
    },
    {
     "data": {
      "text/plain": [
       "'Hello World!'"
      ]
     },
     "execution_count": 17,
     "metadata": {},
     "output_type": "execute_result"
    }
   ],
   "source": [
    "value = \"Hello World!\"\n",
    "print(value)\n",
    "value"
   ]
  },
  {
   "cell_type": "code",
   "execution_count": 49,
   "id": "601cea17-65a3-45bc-9767-64190b26d1ab",
   "metadata": {},
   "outputs": [
    {
     "name": "stdout",
     "output_type": "stream",
     "text": [
      "I'm 26.5 years old.\n",
      "I'm 26.5 years old.\n",
      "I'm 26.5years old.\n",
      "I'm 26.5 years old.\n"
     ]
    }
   ],
   "source": [
    "value = 26.5\n",
    "print(\"I'm \" + str(value) + \" years old.\")\n",
    "print('I\\'m ' + str(value) + ' years old.')\n",
    "# \\ is called the escape character\n",
    "\n",
    "print('I\\'m 26.5' 'years old.')\n",
    "print('I\\'m 26.5 ' 'years old.')"
   ]
  },
  {
   "cell_type": "code",
   "execution_count": 57,
   "id": "6f0c712e-5424-4aa8-92f4-be3f521f0f79",
   "metadata": {},
   "outputs": [
    {
     "name": "stdout",
     "output_type": "stream",
     "text": [
      "Name Redwan\n",
      "25 18.65 Child 4.3\n"
     ]
    },
    {
     "data": {
      "text/plain": [
       "(25, 18.65, 'Child', 4.3)"
      ]
     },
     "execution_count": 57,
     "metadata": {},
     "output_type": "execute_result"
    }
   ],
   "source": [
    "print(\"Name\", \"Redwan\")\n",
    "print(25, 18.65, \"Child\", 4.3)\n",
    "25, 18.65, \"Child\", 4.3"
   ]
  },
  {
   "cell_type": "code",
   "execution_count": 2,
   "id": "e88cd5b5-6b7a-4298-aca6-8dd0aa7e2919",
   "metadata": {},
   "outputs": [
    {
     "data": {
      "text/plain": [
       "6"
      ]
     },
     "execution_count": 2,
     "metadata": {},
     "output_type": "execute_result"
    }
   ],
   "source": [
    "2*3"
   ]
  },
  {
   "cell_type": "code",
   "execution_count": 6,
   "id": "80ed0c04-6035-40ae-8b81-20b0719a9fc1",
   "metadata": {},
   "outputs": [
    {
     "data": {
      "text/plain": [
       "8"
      ]
     },
     "execution_count": 6,
     "metadata": {},
     "output_type": "execute_result"
    }
   ],
   "source": [
    "2**3 # ** is power of"
   ]
  },
  {
   "cell_type": "code",
   "execution_count": 12,
   "id": "cc010bd6-4050-4fb6-a670-0328ab7f8058",
   "metadata": {},
   "outputs": [
    {
     "data": {
      "text/plain": [
       "5.0"
      ]
     },
     "execution_count": 12,
     "metadata": {},
     "output_type": "execute_result"
    }
   ],
   "source": [
    "15 / 3"
   ]
  },
  {
   "cell_type": "code",
   "execution_count": 16,
   "id": "0b31faf0-09dd-4795-8cc7-59d3b7249a88",
   "metadata": {},
   "outputs": [
    {
     "data": {
      "text/plain": [
       "1"
      ]
     },
     "execution_count": 16,
     "metadata": {},
     "output_type": "execute_result"
    }
   ],
   "source": [
    "value = 15 % 2\n",
    "value"
   ]
  },
  {
   "cell_type": "code",
   "execution_count": 18,
   "id": "d33748d4-e823-4e0f-9895-6e3a8b5dfc80",
   "metadata": {},
   "outputs": [
    {
     "data": {
      "text/plain": [
       "False"
      ]
     },
     "execution_count": 18,
     "metadata": {},
     "output_type": "execute_result"
    }
   ],
   "source": [
    "value == 2"
   ]
  },
  {
   "cell_type": "code",
   "execution_count": 20,
   "id": "7b07165e-49a3-4543-baa3-f3728d171cd0",
   "metadata": {},
   "outputs": [
    {
     "data": {
      "text/plain": [
       "True"
      ]
     },
     "execution_count": 20,
     "metadata": {},
     "output_type": "execute_result"
    }
   ],
   "source": [
    "value == 1"
   ]
  },
  {
   "cell_type": "code",
   "execution_count": 22,
   "id": "47e63da2-7cf9-4066-972b-1aac8b1df4fa",
   "metadata": {},
   "outputs": [
    {
     "data": {
      "text/plain": [
       "2"
      ]
     },
     "execution_count": 22,
     "metadata": {},
     "output_type": "execute_result"
    }
   ],
   "source": [
    "value=2\n",
    "value"
   ]
  },
  {
   "cell_type": "code",
   "execution_count": 26,
   "id": "8d9b8924-020f-4f3e-be22-2028d754f867",
   "metadata": {},
   "outputs": [
    {
     "data": {
      "text/plain": [
       "'Umar'"
      ]
     },
     "execution_count": 26,
     "metadata": {},
     "output_type": "execute_result"
    }
   ],
   "source": [
    "value = \"Umar\"\n",
    "value"
   ]
  },
  {
   "cell_type": "code",
   "execution_count": 40,
   "id": "06e60492-3b89-4eec-a380-3deb978e207a",
   "metadata": {},
   "outputs": [
    {
     "data": {
      "text/plain": [
       "5"
      ]
     },
     "execution_count": 40,
     "metadata": {},
     "output_type": "execute_result"
    }
   ],
   "source": [
    "value = 15 % 2 + \\\n",
    "3 - -1\n",
    "value"
   ]
  },
  {
   "cell_type": "code",
   "execution_count": 44,
   "id": "193178aa-8fb6-4290-bce5-2c42475fa45f",
   "metadata": {},
   "outputs": [
    {
     "data": {
      "text/plain": [
       "'W'"
      ]
     },
     "execution_count": 44,
     "metadata": {},
     "output_type": "execute_result"
    }
   ],
   "source": [
    "\"Hello World!\"[6]"
   ]
  },
  {
   "cell_type": "code",
   "execution_count": 52,
   "id": "e2566820-1a6f-402c-8ccd-3b4cb7d21d8e",
   "metadata": {},
   "outputs": [
    {
     "name": "stdout",
     "output_type": "stream",
     "text": [
      "6\n"
     ]
    }
   ],
   "source": [
    "def value(m):\n",
    "    m = 6\n",
    "    return m\n",
    "\n",
    "print(value(5))"
   ]
  },
  {
   "cell_type": "code",
   "execution_count": null,
   "id": "57a75450-346a-4afa-bb72-3e34e4068da9",
   "metadata": {},
   "outputs": [],
   "source": []
  }
 ],
 "metadata": {
  "kernelspec": {
   "display_name": "Python 3 (ipykernel)",
   "language": "python",
   "name": "python3"
  },
  "language_info": {
   "codemirror_mode": {
    "name": "ipython",
    "version": 3
   },
   "file_extension": ".py",
   "mimetype": "text/x-python",
   "name": "python",
   "nbconvert_exporter": "python",
   "pygments_lexer": "ipython3",
   "version": "3.11.7"
  }
 },
 "nbformat": 4,
 "nbformat_minor": 5
}
