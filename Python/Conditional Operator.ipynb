{
 "cells": [
  {
   "cell_type": "code",
   "execution_count": 4,
   "id": "d348bdd8-cc2f-495f-a280-3a8a76bfff05",
   "metadata": {},
   "outputs": [
    {
     "name": "stdout",
     "output_type": "stream",
     "text": [
      "True\n"
     ]
    }
   ],
   "source": [
    "if 5 == 30/6:\n",
    "    print(True)"
   ]
  },
  {
   "cell_type": "code",
   "execution_count": 6,
   "id": "8927f7f9-c049-49e5-955c-377e5d7259d6",
   "metadata": {},
   "outputs": [
    {
     "name": "stdout",
     "output_type": "stream",
     "text": [
      "Case 2 is True\n"
     ]
    }
   ],
   "source": [
    "if 5 == 18/6:\n",
    "    print(\"Case 1 is True\")\n",
    "elif 8 == 48/6: {\n",
    "    print(\"Case 2 is True\")\n",
    "}\n",
    "else :\n",
    "    print(False)"
   ]
  },
  {
   "cell_type": "code",
   "execution_count": 8,
   "id": "4d71a6d5-fab0-4803-a097-7d86d123c55b",
   "metadata": {},
   "outputs": [],
   "source": [
    "def compare_number(value):\n",
    "    if value == 18/6:\n",
    "        return \"Case 1 is True\"\n",
    "    elif value != 48/6:\n",
    "        return \"Case 2 is True\"\n",
    "    else :\n",
    "        return False"
   ]
  },
  {
   "cell_type": "code",
   "execution_count": 10,
   "id": "7410afc8-5c9a-47e6-ba20-9278b30c6fa3",
   "metadata": {},
   "outputs": [
    {
     "name": "stdout",
     "output_type": "stream",
     "text": [
      "False\n"
     ]
    }
   ],
   "source": [
    "print(compare_number(8))"
   ]
  },
  {
   "cell_type": "code",
   "execution_count": 12,
   "id": "7c10a89d-9959-4b3e-b427-834682c8ec32",
   "metadata": {},
   "outputs": [
    {
     "name": "stdout",
     "output_type": "stream",
     "text": [
      "True\n"
     ]
    }
   ],
   "source": [
    "print(3 == 18/6)"
   ]
  },
  {
   "cell_type": "code",
   "execution_count": null,
   "id": "b3b97015-375c-44dd-94d7-c1f73bdf16e2",
   "metadata": {},
   "outputs": [],
   "source": []
  }
 ],
 "metadata": {
  "kernelspec": {
   "display_name": "Python 3 (ipykernel)",
   "language": "python",
   "name": "python3"
  },
  "language_info": {
   "codemirror_mode": {
    "name": "ipython",
    "version": 3
   },
   "file_extension": ".py",
   "mimetype": "text/x-python",
   "name": "python",
   "nbconvert_exporter": "python",
   "pygments_lexer": "ipython3",
   "version": "3.11.7"
  }
 },
 "nbformat": 4,
 "nbformat_minor": 5
}
