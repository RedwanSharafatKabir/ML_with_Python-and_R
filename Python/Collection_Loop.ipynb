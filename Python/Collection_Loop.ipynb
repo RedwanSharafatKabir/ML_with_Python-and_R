{
 "cells": [
  {
   "cell_type": "code",
   "execution_count": 1,
   "id": "0d98c536-73c3-49d6-9ed2-ce1a57fcf8a6",
   "metadata": {},
   "outputs": [
    {
     "name": "stdout",
     "output_type": "stream",
     "text": [
      "['Redwan', 'Sazzad', 'Samir']\n"
     ]
    }
   ],
   "source": [
    "Names = [\"Redwan\", \"Sazzad\", \"Samir\"]\n",
    "print(Names)"
   ]
  },
  {
   "cell_type": "code",
   "execution_count": 3,
   "id": "d885c60d-a526-42d3-bd94-53787fe27097",
   "metadata": {},
   "outputs": [
    {
     "name": "stdout",
     "output_type": "stream",
     "text": [
      "Samir\n",
      "Sazzad\n",
      "Redwan\n"
     ]
    }
   ],
   "source": [
    "# Get value from last index\n",
    "print(Names[-1])\n",
    "print(Names[-2])\n",
    "print(Names[-3])"
   ]
  },
  {
   "cell_type": "code",
   "execution_count": 5,
   "id": "4dd749cc-3bfa-4a39-b411-788ca9061782",
   "metadata": {},
   "outputs": [
    {
     "data": {
      "text/plain": [
       "['Redwan', 'Samir']"
      ]
     },
     "execution_count": 5,
     "metadata": {},
     "output_type": "execute_result"
    }
   ],
   "source": [
    "# Delete over index\n",
    "del Names[1]\n",
    "Names"
   ]
  },
  {
   "cell_type": "code",
   "execution_count": 7,
   "id": "c293bf26-8704-4610-b9b8-ff73e2f2bf98",
   "metadata": {},
   "outputs": [
    {
     "data": {
      "text/plain": [
       "['Redwan', 'Sharafat']"
      ]
     },
     "execution_count": 7,
     "metadata": {},
     "output_type": "execute_result"
    }
   ],
   "source": [
    "Names[1] = \"Sharafat\"\n",
    "Names"
   ]
  },
  {
   "cell_type": "code",
   "execution_count": 9,
   "id": "653d66ee-4671-493c-89ab-144f19bef4ce",
   "metadata": {},
   "outputs": [
    {
     "name": "stdout",
     "output_type": "stream",
     "text": [
      "[24, 42]\n",
      "[25, 24]\n",
      "[25, 24]\n",
      "[42, 21, 30]\n",
      "[42, 21]\n"
     ]
    }
   ],
   "source": [
    "# Slice\n",
    "Ages = [25, 24, 42, 21, 30]\n",
    "print(Ages[1:3])\n",
    "print(Ages[0:2])\n",
    "print(Ages[:2])\n",
    "print(Ages[-3:])\n",
    "print(Ages[-3:-1])"
   ]
  },
  {
   "cell_type": "code",
   "execution_count": 11,
   "id": "edc424d6-6e20-40d3-9ee0-8caaca358051",
   "metadata": {},
   "outputs": [
    {
     "name": "stdout",
     "output_type": "stream",
     "text": [
      "2\n"
     ]
    }
   ],
   "source": [
    "# Find index\n",
    "print(Ages.index(42))"
   ]
  },
  {
   "cell_type": "code",
   "execution_count": 13,
   "id": "7771d365-2ec4-4d98-91aa-2f926e74a106",
   "metadata": {},
   "outputs": [
    {
     "name": "stdout",
     "output_type": "stream",
     "text": [
      "[21, 24, 25, 30, 42]\n"
     ]
    }
   ],
   "source": [
    "Ages.sort()\n",
    "print(Ages)"
   ]
  },
  {
   "cell_type": "code",
   "execution_count": 15,
   "id": "779b1f4f-136e-4049-9919-08dcca59ed58",
   "metadata": {},
   "outputs": [
    {
     "name": "stdout",
     "output_type": "stream",
     "text": [
      "42\n"
     ]
    }
   ],
   "source": [
    "Ages.reverse()\n",
    "print(Ages[0])"
   ]
  },
  {
   "cell_type": "code",
   "execution_count": 17,
   "id": "1883ff44-6b51-4148-9183-8b32f4a9bf2e",
   "metadata": {},
   "outputs": [
    {
     "name": "stdout",
     "output_type": "stream",
     "text": [
      "[42, 30, 25, 24, 21]\n"
     ]
    },
    {
     "data": {
      "text/plain": [
       "[42, 30, 25, 24, 21]"
      ]
     },
     "execution_count": 17,
     "metadata": {},
     "output_type": "execute_result"
    }
   ],
   "source": [
    "Ages.sort(reverse=True)\n",
    "print(Ages)\n",
    "Ages"
   ]
  },
  {
   "cell_type": "code",
   "execution_count": 19,
   "id": "8d82c54c-f360-430a-ac2d-ee6f409ab8b8",
   "metadata": {},
   "outputs": [
    {
     "data": {
      "text/plain": [
       "(5, 4, 3, 2, 1)"
      ]
     },
     "execution_count": 19,
     "metadata": {},
     "output_type": "execute_result"
    }
   ],
   "source": [
    "# Tuples\n",
    "\n",
    "m = (5, 4, 3, 2, 1)\n",
    "m"
   ]
  },
  {
   "cell_type": "code",
   "execution_count": 21,
   "id": "18aa33b3-fa91-4f80-a9fb-16822ee30ee4",
   "metadata": {},
   "outputs": [
    {
     "data": {
      "text/plain": [
       "(1, 2, 3, 4, 5)"
      ]
     },
     "execution_count": 21,
     "metadata": {},
     "output_type": "execute_result"
    }
   ],
   "source": [
    "n = 1, 2, 3, 4, 5\n",
    "n"
   ]
  },
  {
   "cell_type": "code",
   "execution_count": 23,
   "id": "0bd5b905-dc54-46a0-b451-f82b7696b5a2",
   "metadata": {},
   "outputs": [
    {
     "data": {
      "text/plain": [
       "4"
      ]
     },
     "execution_count": 23,
     "metadata": {},
     "output_type": "execute_result"
    }
   ],
   "source": [
    "o, p = 4, 3\n",
    "o"
   ]
  },
  {
   "cell_type": "code",
   "execution_count": 25,
   "id": "f89cf7cb-b2d8-485c-92c9-fdd4e143dcca",
   "metadata": {},
   "outputs": [
    {
     "data": {
      "text/plain": [
       "3"
      ]
     },
     "execution_count": 25,
     "metadata": {},
     "output_type": "execute_result"
    }
   ],
   "source": [
    "m[2]"
   ]
  },
  {
   "cell_type": "code",
   "execution_count": 27,
   "id": "4e4205f6-58f4-4f0a-b23b-e35ede906703",
   "metadata": {},
   "outputs": [
    {
     "data": {
      "text/plain": [
       "[(5, 4, 3, 2, 1), (1, 2, 3, 4, 5)]"
      ]
     },
     "execution_count": 27,
     "metadata": {},
     "output_type": "execute_result"
    }
   ],
   "source": [
    "list_item = [m, n]\n",
    "list_item"
   ]
  },
  {
   "cell_type": "code",
   "execution_count": 29,
   "id": "41e52522-6119-4124-b02a-f15845cfc0a3",
   "metadata": {},
   "outputs": [
    {
     "name": "stdout",
     "output_type": "stream",
     "text": [
      "35.23 51\n"
     ]
    }
   ],
   "source": [
    "(x, y) = \"35.23,51\".split(\",\")\n",
    "print(x, y)"
   ]
  },
  {
   "cell_type": "code",
   "execution_count": 31,
   "id": "c4fa8cfa-636a-4386-8dce-0c794d31d97f",
   "metadata": {},
   "outputs": [
    {
     "data": {
      "text/plain": [
       "'Age'"
      ]
     },
     "execution_count": 31,
     "metadata": {},
     "output_type": "execute_result"
    }
   ],
   "source": [
    "# Key-Value pair is called Dictionary\n",
    "\n",
    "dict = {\"key1\":\"Name\", \"key2\":\"Age\", \"key3\":\"Class\"}\n",
    "dict[\"key2\"]"
   ]
  },
  {
   "cell_type": "code",
   "execution_count": 33,
   "id": "b9b5a972-839c-4043-965c-790ad2bce068",
   "metadata": {},
   "outputs": [
    {
     "data": {
      "text/plain": [
       "{'key1': 'Name', 'key2': 'Age', 'key3': 'Department', 'key4': 'Institute'}"
      ]
     },
     "execution_count": 33,
     "metadata": {},
     "output_type": "execute_result"
    }
   ],
   "source": [
    "dict[\"key4\"] = \"Institute\"    # insert\n",
    "dict[\"key3\"] = \"Department\"   # update\n",
    "dict"
   ]
  },
  {
   "cell_type": "code",
   "execution_count": 35,
   "id": "f8a93ede-a23e-41c6-b497-d3cb6f123fe8",
   "metadata": {},
   "outputs": [
    {
     "name": "stdout",
     "output_type": "stream",
     "text": [
      "Institute\n"
     ]
    }
   ],
   "source": [
    "print(dict.get(\"key4\"))"
   ]
  },
  {
   "cell_type": "code",
   "execution_count": 37,
   "id": "97f44e02-c8fc-471b-926e-425d50f1f5fd",
   "metadata": {},
   "outputs": [
    {
     "name": "stdout",
     "output_type": "stream",
     "text": [
      "None\n"
     ]
    }
   ],
   "source": [
    "print(dict.get('key5'))    # Key key5 does not exist"
   ]
  },
  {
   "cell_type": "code",
   "execution_count": 39,
   "id": "7c789d0b-6ce6-4ce5-bd07-2a9fefff9e22",
   "metadata": {},
   "outputs": [
    {
     "name": "stdout",
     "output_type": "stream",
     "text": [
      "5, 10, 15, 20, "
     ]
    }
   ],
   "source": [
    "# For Loop\n",
    "\n",
    "arr = [5, 10, 15, 20]\n",
    "for n in arr:\n",
    "    print(n, end=\", \")"
   ]
  },
  {
   "cell_type": "code",
   "execution_count": 49,
   "id": "f94b1497-0a90-4df4-a5c9-04732457252f",
   "metadata": {},
   "outputs": [
    {
     "name": "stdout",
     "output_type": "stream",
     "text": [
      "15 17.5 20.0 22.5 25.0 "
     ]
    }
   ],
   "source": [
    "# While Loop\n",
    "\n",
    "value = 15\n",
    "while value <= 25:\n",
    "    print(value, end=\" \")\n",
    "    value += 2.5\n",
    "    "
   ]
  },
  {
   "cell_type": "code",
   "execution_count": 51,
   "id": "5792dadc-b807-4459-af8e-37defb4d0422",
   "metadata": {},
   "outputs": [
    {
     "data": {
      "text/plain": [
       "range(0, 15)"
      ]
     },
     "execution_count": 51,
     "metadata": {},
     "output_type": "execute_result"
    }
   ],
   "source": [
    "range(15)"
   ]
  },
  {
   "cell_type": "code",
   "execution_count": 55,
   "id": "15d0ddfe-58b8-492e-a4e5-b5343ad93444",
   "metadata": {},
   "outputs": [
    {
     "data": {
      "text/plain": [
       "[0, 1, 2, 3, 4, 5, 6, 7, 8, 9, 10, 11, 12, 13, 14]"
      ]
     },
     "execution_count": 55,
     "metadata": {},
     "output_type": "execute_result"
    }
   ],
   "source": [
    "list(range(15))"
   ]
  },
  {
   "cell_type": "code",
   "execution_count": 61,
   "id": "43f18f45-b6f3-471a-bc65-7b048adba084",
   "metadata": {},
   "outputs": [
    {
     "data": {
      "text/plain": [
       "range(7, 15)"
      ]
     },
     "execution_count": 61,
     "metadata": {},
     "output_type": "execute_result"
    }
   ],
   "source": [
    "range(7, 15)"
   ]
  },
  {
   "cell_type": "code",
   "execution_count": 63,
   "id": "6fc6946c-e7c0-49e0-b516-a498ffbda1ab",
   "metadata": {},
   "outputs": [
    {
     "data": {
      "text/plain": [
       "[7, 8, 9, 10, 11, 12, 13, 14]"
      ]
     },
     "execution_count": 63,
     "metadata": {},
     "output_type": "execute_result"
    }
   ],
   "source": [
    "list(range(7, 15))"
   ]
  },
  {
   "cell_type": "code",
   "execution_count": 67,
   "id": "381ccdae-572a-4baf-ba1a-ed8c91a8c2ac",
   "metadata": {},
   "outputs": [
    {
     "data": {
      "text/plain": [
       "[7, 9, 11, 13]"
      ]
     },
     "execution_count": 67,
     "metadata": {},
     "output_type": "execute_result"
    }
   ],
   "source": [
    "list(range(7, 15, 2)) # increament by 2"
   ]
  },
  {
   "cell_type": "code",
   "execution_count": 75,
   "id": "53075d9b-f31d-4859-9101-b3515730e9ab",
   "metadata": {},
   "outputs": [
    {
     "name": "stdout",
     "output_type": "stream",
     "text": [
      "1 2 4 8 16 32 64 128 256 512 1024 2048 4096 8192 16384 "
     ]
    }
   ],
   "source": [
    "for n in range(15):\n",
    "    print(2**n, end=\" \")"
   ]
  },
  {
   "cell_type": "code",
   "execution_count": 85,
   "id": "97c49eb1-d32a-4cae-b8e6-168aba663928",
   "metadata": {},
   "outputs": [
    {
     "name": "stdout",
     "output_type": "stream",
     "text": [
      "Even:  0\n",
      "Odd\n",
      "Even:  2\n",
      "Odd\n",
      "Even:  4\n",
      "Odd\n",
      "Even:  6\n",
      "Odd\n",
      "Even:  8\n",
      "Odd\n",
      "Even:  10\n",
      "Odd\n",
      "Even:  12\n",
      "Odd\n",
      "Even:  14\n"
     ]
    }
   ],
   "source": [
    "for n in range(15):\n",
    "    if n%2 == 0:\n",
    "        print(\"Even: \", n)\n",
    "    else :\n",
    "        print(\"Odd\")"
   ]
  },
  {
   "cell_type": "code",
   "execution_count": null,
   "id": "b1923a95-0380-435d-8ddd-78ad3c02391c",
   "metadata": {},
   "outputs": [],
   "source": []
  }
 ],
 "metadata": {
  "kernelspec": {
   "display_name": "Python 3 (ipykernel)",
   "language": "python",
   "name": "python3"
  },
  "language_info": {
   "codemirror_mode": {
    "name": "ipython",
    "version": 3
   },
   "file_extension": ".py",
   "mimetype": "text/x-python",
   "name": "python",
   "nbconvert_exporter": "python",
   "pygments_lexer": "ipython3",
   "version": "3.11.7"
  }
 },
 "nbformat": 4,
 "nbformat_minor": 5
}
