{
 "cells": [
  {
   "cell_type": "code",
   "execution_count": null,
   "id": "0d98c536-73c3-49d6-9ed2-ce1a57fcf8a6",
   "metadata": {},
   "outputs": [],
   "source": [
    "Names = [\"Redwan\", \"Sazzad\", \"Samir\"]\n",
    "print(Names)"
   ]
  },
  {
   "cell_type": "code",
   "execution_count": null,
   "id": "d885c60d-a526-42d3-bd94-53787fe27097",
   "metadata": {},
   "outputs": [],
   "source": [
    "# Get value from last index\n",
    "print(Names[-1])\n",
    "print(Names[-2])\n",
    "print(Names[-3])"
   ]
  },
  {
   "cell_type": "code",
   "execution_count": null,
   "id": "4dd749cc-3bfa-4a39-b411-788ca9061782",
   "metadata": {},
   "outputs": [],
   "source": [
    "# Delete over index\n",
    "del Names[1]\n",
    "Names"
   ]
  },
  {
   "cell_type": "code",
   "execution_count": null,
   "id": "c293bf26-8704-4610-b9b8-ff73e2f2bf98",
   "metadata": {},
   "outputs": [],
   "source": [
    "Names[1] = \"Sharafat\"\n",
    "Names"
   ]
  },
  {
   "cell_type": "code",
   "execution_count": null,
   "id": "653d66ee-4671-493c-89ab-144f19bef4ce",
   "metadata": {},
   "outputs": [],
   "source": [
    "# Slice\n",
    "Ages = [25, 24, 42, 21, 30]\n",
    "print(Ages[1:3])\n",
    "print(Ages[0:2])\n",
    "print(Ages[:2])\n",
    "print(Ages[-3:])\n",
    "print(Ages[-3:-1])"
   ]
  },
  {
   "cell_type": "code",
   "execution_count": null,
   "id": "edc424d6-6e20-40d3-9ee0-8caaca358051",
   "metadata": {},
   "outputs": [],
   "source": [
    "# Find index\n",
    "print(Ages.index(42))"
   ]
  },
  {
   "cell_type": "code",
   "execution_count": null,
   "id": "7771d365-2ec4-4d98-91aa-2f926e74a106",
   "metadata": {},
   "outputs": [],
   "source": [
    "Ages.sort()\n",
    "print(Ages)"
   ]
  },
  {
   "cell_type": "code",
   "execution_count": null,
   "id": "779b1f4f-136e-4049-9919-08dcca59ed58",
   "metadata": {},
   "outputs": [],
   "source": [
    "Ages.reverse()\n",
    "print(Ages[0])"
   ]
  },
  {
   "cell_type": "code",
   "execution_count": null,
   "id": "1883ff44-6b51-4148-9183-8b32f4a9bf2e",
   "metadata": {},
   "outputs": [],
   "source": [
    "Ages.sort(reverse=True)\n",
    "print(Ages)\n",
    "Ages"
   ]
  },
  {
   "cell_type": "code",
   "execution_count": null,
   "id": "8d82c54c-f360-430a-ac2d-ee6f409ab8b8",
   "metadata": {},
   "outputs": [],
   "source": [
    "# Tuples\n",
    "\n",
    "m = (5, 4, 3, 2, 1)\n",
    "m"
   ]
  },
  {
   "cell_type": "code",
   "execution_count": null,
   "id": "18aa33b3-fa91-4f80-a9fb-16822ee30ee4",
   "metadata": {},
   "outputs": [],
   "source": [
    "n = 1, 2, 3, 4, 5\n",
    "n"
   ]
  },
  {
   "cell_type": "code",
   "execution_count": null,
   "id": "0bd5b905-dc54-46a0-b451-f82b7696b5a2",
   "metadata": {},
   "outputs": [],
   "source": [
    "o, p = 4, 3\n",
    "o"
   ]
  },
  {
   "cell_type": "code",
   "execution_count": null,
   "id": "f89cf7cb-b2d8-485c-92c9-fdd4e143dcca",
   "metadata": {},
   "outputs": [],
   "source": [
    "m[2]"
   ]
  },
  {
   "cell_type": "code",
   "execution_count": null,
   "id": "4e4205f6-58f4-4f0a-b23b-e35ede906703",
   "metadata": {},
   "outputs": [],
   "source": [
    "list_item = [m, n]\n",
    "list_item"
   ]
  },
  {
   "cell_type": "code",
   "execution_count": null,
   "id": "41e52522-6119-4124-b02a-f15845cfc0a3",
   "metadata": {},
   "outputs": [],
   "source": [
    "(x, y) = \"35.23,51\".split(\",\")\n",
    "print(x, y)"
   ]
  },
  {
   "cell_type": "code",
   "execution_count": null,
   "id": "c4fa8cfa-636a-4386-8dce-0c794d31d97f",
   "metadata": {},
   "outputs": [],
   "source": [
    "# Key-Value pair is called Dictionary\n",
    "\n",
    "dict = {\"key1\":\"Name\", \"key2\":\"Age\", \"key3\":\"Class\"}\n",
    "dict[\"key2\"]"
   ]
  },
  {
   "cell_type": "code",
   "execution_count": null,
   "id": "b9b5a972-839c-4043-965c-790ad2bce068",
   "metadata": {},
   "outputs": [],
   "source": [
    "dict[\"key4\"] = \"Institute\"    # insert\n",
    "dict[\"key3\"] = \"Department\"   # update\n",
    "dict"
   ]
  },
  {
   "cell_type": "code",
   "execution_count": null,
   "id": "f8a93ede-a23e-41c6-b497-d3cb6f123fe8",
   "metadata": {},
   "outputs": [],
   "source": [
    "print(dict.get(\"key4\"))"
   ]
  },
  {
   "cell_type": "code",
   "execution_count": null,
   "id": "97f44e02-c8fc-471b-926e-425d50f1f5fd",
   "metadata": {},
   "outputs": [],
   "source": [
    "print(dict.get('key5'))    # Key key5 does not exist"
   ]
  },
  {
   "cell_type": "code",
   "execution_count": null,
   "id": "7c789d0b-6ce6-4ce5-bd07-2a9fefff9e22",
   "metadata": {},
   "outputs": [],
   "source": [
    "# For Loop\n",
    "\n",
    "arr = [5, 10, 15, 20]\n",
    "for n in arr:\n",
    "    print(n, end=\", \")"
   ]
  },
  {
   "cell_type": "code",
   "execution_count": null,
   "id": "f94b1497-0a90-4df4-a5c9-04732457252f",
   "metadata": {},
   "outputs": [],
   "source": [
    "# While Loop\n",
    "\n",
    "value = 15\n",
    "while value <= 25:\n",
    "    print(value, end=\" \")\n",
    "    value = value + 1\n",
    "    "
   ]
  },
  {
   "cell_type": "code",
   "execution_count": null,
   "id": "5792dadc-b807-4459-af8e-37defb4d0422",
   "metadata": {},
   "outputs": [],
   "source": []
  }
 ],
 "metadata": {
  "kernelspec": {
   "display_name": "Python 3 (ipykernel)",
   "language": "python",
   "name": "python3"
  },
  "language_info": {
   "codemirror_mode": {
    "name": "ipython",
    "version": 3
   },
   "file_extension": ".py",
   "mimetype": "text/x-python",
   "name": "python",
   "nbconvert_exporter": "python",
   "pygments_lexer": "ipython3",
   "version": "3.11.7"
  }
 },
 "nbformat": 4,
 "nbformat_minor": 5
}
