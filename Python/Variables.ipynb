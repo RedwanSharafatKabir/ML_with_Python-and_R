{
 "cells": [
  {
   "cell_type": "code",
   "execution_count": 1,
   "id": "1df9d5dd-6e8c-4adb-9443-74108cf677c1",
   "metadata": {},
   "outputs": [
    {
     "name": "stdout",
     "output_type": "stream",
     "text": [
      "Hello World\n"
     ]
    }
   ],
   "source": [
    "first_name = \"Hello\"\n",
    "\n",
    "print(first_name + \" World\")"
   ]
  },
  {
   "cell_type": "code",
   "execution_count": 5,
   "id": "46c0f5dc-805e-400e-8f16-0d8c5681a3e0",
   "metadata": {},
   "outputs": [
    {
     "name": "stdout",
     "output_type": "stream",
     "text": [
      "11\n"
     ]
    }
   ],
   "source": [
    "first_value = 5\n",
    "\n",
    "print(first_value + 6)"
   ]
  },
  {
   "cell_type": "code",
   "execution_count": 7,
   "id": "745d0a75-3022-436b-a111-d1a83e204437",
   "metadata": {},
   "outputs": [
    {
     "data": {
      "text/plain": [
       "11"
      ]
     },
     "execution_count": 7,
     "metadata": {},
     "output_type": "execute_result"
    }
   ],
   "source": [
    "first_value = 5\n",
    "\n",
    "first_value + 6"
   ]
  },
  {
   "cell_type": "code",
   "execution_count": 9,
   "id": "4b71443a-dcbf-4474-8d19-c3a111af1494",
   "metadata": {},
   "outputs": [
    {
     "data": {
      "text/plain": [
       "13"
      ]
     },
     "execution_count": 9,
     "metadata": {},
     "output_type": "execute_result"
    }
   ],
   "source": [
    "first_value = 5\n",
    "first_value = 7\n",
    "first_value + 6"
   ]
  },
  {
   "cell_type": "code",
   "execution_count": 21,
   "id": "166185f3-2ce9-4ff4-a2b4-94f9878a0611",
   "metadata": {},
   "outputs": [
    {
     "name": "stdout",
     "output_type": "stream",
     "text": [
      "11\n",
      "-1\n"
     ]
    }
   ],
   "source": [
    "x, y = (5, 6)\n",
    "\n",
    "print(x + y)\n",
    "print(x - y)"
   ]
  },
  {
   "cell_type": "code",
   "execution_count": null,
   "id": "87f4bdc0-0e89-4279-9872-f4ddc41402f1",
   "metadata": {},
   "outputs": [],
   "source": []
  }
 ],
 "metadata": {
  "kernelspec": {
   "display_name": "Python 3 (ipykernel)",
   "language": "python",
   "name": "python3"
  },
  "language_info": {
   "codemirror_mode": {
    "name": "ipython",
    "version": 3
   },
   "file_extension": ".py",
   "mimetype": "text/x-python",
   "name": "python",
   "nbconvert_exporter": "python",
   "pygments_lexer": "ipython3",
   "version": "3.11.7"
  }
 },
 "nbformat": 4,
 "nbformat_minor": 5
}
