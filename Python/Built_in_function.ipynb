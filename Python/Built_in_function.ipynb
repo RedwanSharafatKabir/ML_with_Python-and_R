{
 "cells": [
  {
   "cell_type": "code",
   "execution_count": 3,
   "id": "01f1b6ab-ceb9-4777-8ce1-1449e355c967",
   "metadata": {},
   "outputs": [
    {
     "name": "stdout",
     "output_type": "stream",
     "text": [
      "<class 'int'>\n",
      "<class 'str'>\n",
      "<class 'float'>\n",
      "10\n",
      "10.0\n",
      "10\n",
      "30\n",
      "10\n",
      "25\n",
      "65\n",
      "56.26\n",
      "56\n",
      "57\n",
      "8\n",
      "12\n"
     ]
    }
   ],
   "source": [
    "\n",
    "# Built in functions in python\n",
    "\n",
    "print(type(10))\n",
    "print(type(\"Hello\"))\n",
    "print(type(10.536))\n",
    "print(int(10.536))\n",
    "print(float(10))\n",
    "print(str(10))\n",
    "str(10)\n",
    "print(max(10, 30, 25))\n",
    "print(min(10, 30, 25))\n",
    "print(abs(-25))\n",
    "\n",
    "list1 = [10, 30, 25]\n",
    "print(sum(list1))\n",
    "\n",
    "# Here 2 is the index of the last decimal point of 56.2589\n",
    "print(round(56.2589, 2))\n",
    "print(round(56.2589))\n",
    "print(round(56.589))\n",
    "\n",
    "print(pow(2, 3))\n",
    "\n",
    "print(len(\"Hello World!\"))"
   ]
  },
  {
   "cell_type": "code",
   "execution_count": null,
   "id": "04afdbe3-2c68-4172-8e99-71df763f9ee9",
   "metadata": {},
   "outputs": [],
   "source": []
  }
 ],
 "metadata": {
  "kernelspec": {
   "display_name": "Python 3 (ipykernel)",
   "language": "python",
   "name": "python3"
  },
  "language_info": {
   "codemirror_mode": {
    "name": "ipython",
    "version": 3
   },
   "file_extension": ".py",
   "mimetype": "text/x-python",
   "name": "python",
   "nbconvert_exporter": "python",
   "pygments_lexer": "ipython3",
   "version": "3.11.7"
  }
 },
 "nbformat": 4,
 "nbformat_minor": 5
}
