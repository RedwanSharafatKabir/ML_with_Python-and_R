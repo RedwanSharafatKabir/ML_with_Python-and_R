{
 "cells": [
  {
   "cell_type": "code",
   "execution_count": 1,
   "id": "d348bdd8-cc2f-495f-a280-3a8a76bfff05",
   "metadata": {},
   "outputs": [
    {
     "name": "stdout",
     "output_type": "stream",
     "text": [
      "True\n"
     ]
    }
   ],
   "source": [
    "if 5 == 30/6:\n",
    "    print(True)"
   ]
  },
  {
   "cell_type": "code",
   "execution_count": 29,
   "id": "8927f7f9-c049-49e5-955c-377e5d7259d6",
   "metadata": {},
   "outputs": [
    {
     "name": "stdout",
     "output_type": "stream",
     "text": [
      "Case 2 is True\n"
     ]
    }
   ],
   "source": [
    "if 5 == 18/6:\n",
    "    print(\"Case 1 is True\")\n",
    "elif 8 == 48/6: {\n",
    "    print(\"Case 2 is True\")\n",
    "}\n",
    "else :\n",
    "    print(False)"
   ]
  },
  {
   "cell_type": "code",
   "execution_count": 54,
   "id": "4d71a6d5-fab0-4803-a097-7d86d123c55b",
   "metadata": {},
   "outputs": [],
   "source": [
    "def compare_number(value):\n",
    "    if value == 18/6:\n",
    "        return \"Case 1 is True\"\n",
    "    elif value != 48/6:\n",
    "        return \"Case 2 is True\"\n",
    "    else :\n",
    "        return False"
   ]
  },
  {
   "cell_type": "code",
   "execution_count": 56,
   "id": "7410afc8-5c9a-47e6-ba20-9278b30c6fa3",
   "metadata": {},
   "outputs": [
    {
     "name": "stdout",
     "output_type": "stream",
     "text": [
      "False\n"
     ]
    }
   ],
   "source": [
    "print(compare_number(8))"
   ]
  },
  {
   "cell_type": "code",
   "execution_count": 64,
   "id": "7c10a89d-9959-4b3e-b427-834682c8ec32",
   "metadata": {},
   "outputs": [
    {
     "name": "stdout",
     "output_type": "stream",
     "text": [
      "True\n"
     ]
    }
   ],
   "source": [
    "print(3 == 18/6)"
   ]
  },
  {
   "cell_type": "code",
   "execution_count": 1,
   "id": "8b8f16dd-9d76-4ce4-8178-6beb702c0e42",
   "metadata": {},
   "outputs": [
    {
     "name": "stdout",
     "output_type": "stream",
     "text": [
      "<class 'int'>\n",
      "<class 'str'>\n",
      "<class 'float'>\n",
      "10\n",
      "10.0\n",
      "10\n",
      "30\n",
      "10\n",
      "25\n",
      "65\n",
      "56.26\n",
      "56\n",
      "57\n",
      "8\n",
      "12\n"
     ]
    }
   ],
   "source": [
    "\n",
    "# Built in functions in python\n",
    "\n",
    "print(type(10))\n",
    "print(type(\"Hello\"))\n",
    "print(type(10.536))\n",
    "print(int(10.536))\n",
    "print(float(10))\n",
    "print(str(10))\n",
    "str(10)\n",
    "print(max(10, 30, 25))\n",
    "print(min(10, 30, 25))\n",
    "print(abs(-25))\n",
    "\n",
    "list1 = [10, 30, 25]\n",
    "print(sum(list1))\n",
    "\n",
    "# Here 2 is the index of the last decimal point of 56.2589\n",
    "print(round(56.2589, 2))\n",
    "print(round(56.2589))\n",
    "print(round(56.589))\n",
    "\n",
    "print(pow(2, 3))\n",
    "\n",
    "print(len(\"Hello World!\"))"
   ]
  },
  {
   "cell_type": "code",
   "execution_count": null,
   "id": "d583f8a0-5d9a-4a5e-a361-aa916380b449",
   "metadata": {},
   "outputs": [],
   "source": []
  }
 ],
 "metadata": {
  "kernelspec": {
   "display_name": "Python 3 (ipykernel)",
   "language": "python",
   "name": "python3"
  },
  "language_info": {
   "codemirror_mode": {
    "name": "ipython",
    "version": 3
   },
   "file_extension": ".py",
   "mimetype": "text/x-python",
   "name": "python",
   "nbconvert_exporter": "python",
   "pygments_lexer": "ipython3",
   "version": "3.11.7"
  }
 },
 "nbformat": 4,
 "nbformat_minor": 5
}
